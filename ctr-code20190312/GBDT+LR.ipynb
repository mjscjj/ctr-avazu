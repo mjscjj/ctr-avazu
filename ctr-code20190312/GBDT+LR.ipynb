{
 "cells": [
  {
   "cell_type": "code",
   "execution_count": 1,
   "metadata": {
    "ExecuteTime": {
     "end_time": "2019-03-12T05:12:39.605784Z",
     "start_time": "2019-03-12T05:12:30.355777Z"
    }
   },
   "outputs": [],
   "source": [
    "\"\"\"\n",
    "GBDT-LR模型\n",
    " 1.准备GBDT输入的label encoding\n",
    " 2.准备GBDT输入的 one-hot encoding\n",
    " 3.建立GBDT-LR模型，并训练调参\n",
    " 4.预测结果    \n",
    "    \n",
    "\"\"\"\n",
    "\n",
    "##==================== 导入工具包 ====================##\n",
    "import pandas as pd\n",
    "import numpy as np\n",
    "import random\n",
    "from sklearn.model_selection import train_test_split\n",
    "from sklearn.ensemble import GradientBoostingClassifier\n",
    "from sklearn.linear_model import SGDClassifier  # using SGDClassifier for training incrementally\n",
    "from sklearn.preprocessing import LabelEncoder\n",
    "from dummyPy import OneHotEncoder  # for one-hot encoding on a large scale of chunks\n",
    "from sklearn.metrics import log_loss\n",
    "import matplotlib.pyplot as plt\n",
    "import pickle\n",
    "import gc\n",
    "\n"
   ]
  },
  {
   "cell_type": "code",
   "execution_count": 2,
   "metadata": {
    "ExecuteTime": {
     "end_time": "2019-03-12T05:12:39.630720Z",
     "start_time": "2019-03-12T05:12:39.608774Z"
    }
   },
   "outputs": [],
   "source": [
    "##==================== 文件路径 ====================##\n",
    "\n",
    "fp_train_f = \"feature_engineering/train_f.csv\"\n",
    "fp_test_f  = \"feature_engineering/test_f.csv\"\n",
    "## 子训练集\n",
    "fp_sub_train_f = \"feature_engineering/sub_train_f.csv\"\n",
    "\n",
    "## label encoder for gbdt input\n",
    "## one-hot encoder for gbdt output\n",
    "fp_lb_enc = \"feature_engineering/lb_enc\"\n",
    "fp_oh_enc_gbdt = \"gbdt/oh_enc_gbdt\"\n",
    "\n",
    "## 预训练模型的存储\n",
    "fp_lr_model = \"lr/lr_model\"\n",
    "fp_gbdt_model = \"gbdt/gbdt_model\"\n",
    "\n",
    "## 提交的数据\n",
    "fp_sub_gbdt = \"gbdt/GBDT_submission.csv\"\n",
    "fp_sub_gbdt_lr = \"gbdt-lr/GBDT-LR_submission.csv\"\n",
    "\n"
   ]
  },
  {
   "cell_type": "code",
   "execution_count": 3,
   "metadata": {
    "ExecuteTime": {
     "end_time": "2019-03-12T05:12:39.662628Z",
     "start_time": "2019-03-12T05:12:39.640690Z"
    }
   },
   "outputs": [],
   "source": [
    "##==================== GBDT-LR 模型 ====================##\n",
    "## feature names\n",
    "cols = ['C1',\n",
    "        'banner_pos', \n",
    "        'site_domain', \n",
    "        'site_id',\n",
    "        'site_category',\n",
    "        'app_id',\n",
    "        'app_category', \n",
    "        'device_type', \n",
    "        'device_conn_type',\n",
    "        'C14', \n",
    "        #'C15',\n",
    "        #'C16',\n",
    "        'date',\n",
    "        'time_period',\n",
    "        'weekday',\n",
    "        'C15_C16'  ]\n",
    "\n",
    "cols_train = ['id', 'click']\n",
    "cols_test  = ['id']\n",
    "cols_train.extend(cols)\n",
    "cols_test.extend(cols)\n"
   ]
  },
  {
   "cell_type": "code",
   "execution_count": 4,
   "metadata": {
    "ExecuteTime": {
     "end_time": "2019-03-12T05:13:23.000956Z",
     "start_time": "2019-03-12T05:12:49.275255Z"
    }
   },
   "outputs": [
    {
     "data": {
      "text/plain": [
       "14"
      ]
     },
     "execution_count": 4,
     "metadata": {},
     "output_type": "execute_result"
    }
   ],
   "source": [
    "#----- data for GBDT (label encoding) -----#\n",
    "df_train = pd.read_csv(fp_sub_train_f)  # data load\n",
    "\n",
    "\n",
    "## label 编码的转换\n",
    "label_enc = pickle.load(open(fp_lb_enc, 'rb'))\n",
    "for col in cols:\n",
    "    df_train[col] = label_enc[col].fit_transform(df_train[col].values)\n",
    "\n",
    "## 为GBDT 和LR 模型训练分别分割数据\n",
    "## 这为了防止过拟合\n",
    "X_train_org = df_train[cols].get_values()\n",
    "y_train_org = df_train['click'].get_values()\n",
    "\n",
    "# 30% 做验证集，70%做训练集\n",
    "X_train, X_valid, y_train, y_valid = train_test_split(X_train_org, y_train_org, test_size = 0.3, random_state = 0)\n",
    "# gbdt 和 lr 各 50%\n",
    "X_train_gbdt, X_train_lr, y_train_gbdt, y_train_lr = train_test_split(X_train, y_train, test_size = 0.5, random_state = 0)\n",
    "\n",
    "del df_train\n",
    "del X_train\n",
    "del y_train\n",
    "gc.collect()\n"
   ]
  },
  {
   "cell_type": "code",
   "execution_count": 5,
   "metadata": {
    "ExecuteTime": {
     "end_time": "2019-03-12T05:13:37.959415Z",
     "start_time": "2019-03-12T05:13:37.934482Z"
    }
   },
   "outputs": [
    {
     "data": {
      "text/plain": [
       "GradientBoostingClassifier(criterion='friedman_mse', init=None,\n",
       "              learning_rate=0.2, loss='deviance', max_depth=8,\n",
       "              max_features=None, max_leaf_nodes=None,\n",
       "              min_impurity_decrease=0.0, min_impurity_split=None,\n",
       "              min_samples_leaf=10, min_samples_split=20,\n",
       "              min_weight_fraction_leaf=0.0, n_estimators=100,\n",
       "              n_iter_no_change=None, presort='auto', random_state=1,\n",
       "              subsample=0.01, tol=0.0001, validation_fraction=0.1,\n",
       "              verbose=0, warm_start=False)"
      ]
     },
     "execution_count": 5,
     "metadata": {},
     "output_type": "execute_result"
    }
   ],
   "source": [
    "#----- GBDT 模型训练-----#\n",
    "#----- 参数-----#\n",
    "\n",
    "param = {  # init the hyperparams of GBDT\n",
    "    'learning_rate': 0.2,\n",
    "    'n_estimators': 100,  # number of trees here\n",
    "    'max_depth': 8,  # set max_depth of a tree\n",
    "    'min_samples_split': 20, \n",
    "    'min_samples_leaf': 10,\n",
    "    'subsample': 0.01, \n",
    "    'max_leaf_nodes': None,  # set max leaf nodes of a tree\n",
    "    'random_state': 1,\n",
    "    'verbose': 0\n",
    "    }\n",
    "\n",
    "gbdt_model = GradientBoostingClassifier()\n",
    "gbdt_model.set_params(**param)\n"
   ]
  },
  {
   "cell_type": "code",
   "execution_count": 6,
   "metadata": {
    "ExecuteTime": {
     "end_time": "2019-03-12T06:42:15.720501Z",
     "start_time": "2019-03-12T05:13:41.008911Z"
    }
   },
   "outputs": [
    {
     "name": "stdout",
     "output_type": "stream",
     "text": [
      "training: n_estimators =  10\n",
      "log loss of GBDT on train set: 0.41883\n",
      "log loss of GBDT on valid set: 0.41898\n",
      "training: n_estimators =  20\n",
      "log loss of GBDT on train set: 0.41525\n",
      "log loss of GBDT on valid set: 0.41567\n",
      "training: n_estimators =  30\n",
      "log loss of GBDT on train set: 0.41400\n",
      "log loss of GBDT on valid set: 0.41455\n",
      "training: n_estimators =  40\n",
      "log loss of GBDT on train set: 0.41359\n",
      "log loss of GBDT on valid set: 0.41412\n",
      "training: n_estimators =  50\n",
      "log loss of GBDT on train set: 0.41366\n",
      "log loss of GBDT on valid set: 0.41443\n",
      "training: n_estimators =  60\n",
      "log loss of GBDT on train set: 0.41362\n",
      "log loss of GBDT on valid set: 0.41439\n",
      "training: n_estimators =  70\n",
      "log loss of GBDT on train set: 0.41374\n",
      "log loss of GBDT on valid set: 0.41453\n",
      "training: n_estimators =  80\n",
      "log loss of GBDT on train set: 0.41399\n",
      "log loss of GBDT on valid set: 0.41490\n",
      "training: n_estimators =  90\n",
      "log loss of GBDT on train set: 0.41415\n",
      "log loss of GBDT on valid set: 0.41519\n",
      "training: n_estimators =  100\n",
      "log loss of GBDT on train set: 0.41415\n",
      "log loss of GBDT on valid set: 0.41527\n",
      "training: n_estimators =  120\n",
      "log loss of GBDT on train set: 0.41460\n",
      "log loss of GBDT on valid set: 0.41576\n",
      "training: n_estimators =  140\n",
      "log loss of GBDT on train set: 0.41503\n",
      "log loss of GBDT on valid set: 0.41635\n"
     ]
    }
   ],
   "source": [
    "#----- GBDT 调参 -----#\n",
    "\n",
    "### 1. n_estimators\n",
    "\n",
    "log_loss_train = []\n",
    "log_loss_valid = []\n",
    "n_estimators = [10,20,30,40,50,60,70,80,90,100,120,140]\n",
    "for nt in n_estimators:\n",
    "    print('training: n_estimators = ', nt)\n",
    "    \n",
    "    param['n_estimators'] = nt\n",
    "    gbdt_model.set_params(**param)\n",
    "    gbdt_model.fit(X_train_gbdt, y_train_gbdt)\n",
    "    # scores\n",
    "    y_pred_gbdt = gbdt_model.predict_proba(X_train_gbdt)[:, 1]\n",
    "    log_loss_gbdt = log_loss(y_train_gbdt, y_pred_gbdt)\n",
    "    print('log loss of GBDT on train set: %.5f' % log_loss_gbdt)\n",
    "    log_loss_train.append(log_loss_gbdt)\n",
    "    \n",
    "    y_pred_gbdt = gbdt_model.predict_proba(X_valid)[:, 1]\n",
    "    log_loss_gbdt = log_loss(y_valid, y_pred_gbdt)\n",
    "    print('log loss of GBDT on valid set: %.5f' % log_loss_gbdt)\n",
    "    log_loss_valid.append(log_loss_gbdt)\n",
    "    \n"
   ]
  },
  {
   "cell_type": "code",
   "execution_count": 7,
   "metadata": {
    "ExecuteTime": {
     "end_time": "2019-03-12T06:42:16.171683Z",
     "start_time": "2019-03-12T06:42:15.743444Z"
    }
   },
   "outputs": [
    {
     "data": {
      "image/png": "[encoded data removed]",
      "text/plain": [
       "<Figure size 432x288 with 1 Axes>"
      ]
     },
     "metadata": {
      "needs_background": "light"
     },
     "output_type": "display_data"
    }
   ],
   "source": [
    "## plot the curve\n",
    "f1 = plt.figure(1)\n",
    "plt.plot(n_estimators, log_loss_train, label='train')\n",
    "plt.plot(n_estimators, log_loss_valid, label='valid')\n",
    "plt.xlabel('n_estimators')\n",
    "plt.ylabel('log_loss')\n",
    "plt.title('n_estimators (md=8,lr=0.2,mss=2,msl=1)')\n",
    "plt.legend()\n",
    "plt.grid(True, linewidth=0.3)\n",
    "plt.show()\n"
   ]
  },
  {
   "cell_type": "markdown",
   "metadata": {},
   "source": [
    "##### 最佳 n_estimators = 30"
   ]
  },
  {
   "cell_type": "code",
   "execution_count": 8,
   "metadata": {
    "ExecuteTime": {
     "end_time": "2019-03-12T07:41:33.609619Z",
     "start_time": "2019-03-12T07:41:33.599647Z"
    }
   },
   "outputs": [],
   "source": [
    "param['n_estimators'] = 40"
   ]
  },
  {
   "cell_type": "code",
   "execution_count": 9,
   "metadata": {
    "ExecuteTime": {
     "end_time": "2019-03-12T08:33:21.972559Z",
     "start_time": "2019-03-12T07:41:35.909951Z"
    }
   },
   "outputs": [
    {
     "name": "stdout",
     "output_type": "stream",
     "text": [
      "training: max_depth =  4\n",
      "log loss of GBDT on train set: 0.41881\n",
      "log loss of GBDT on valid set: 0.41895\n",
      "training: max_depth =  5\n",
      "log loss of GBDT on train set: 0.41630\n",
      "log loss of GBDT on valid set: 0.41661\n",
      "training: max_depth =  6\n",
      "log loss of GBDT on train set: 0.41496\n",
      "log loss of GBDT on valid set: 0.41542\n",
      "training: max_depth =  7\n",
      "log loss of GBDT on train set: 0.41410\n",
      "log loss of GBDT on valid set: 0.41476\n",
      "training: max_depth =  8\n",
      "log loss of GBDT on train set: 0.41359\n",
      "log loss of GBDT on valid set: 0.41412\n",
      "training: max_depth =  9\n",
      "log loss of GBDT on train set: 0.41419\n",
      "log loss of GBDT on valid set: 0.41491\n",
      "training: max_depth =  10\n",
      "log loss of GBDT on train set: 0.41433\n",
      "log loss of GBDT on valid set: 0.41530\n",
      "training: max_depth =  11\n",
      "log loss of GBDT on train set: 0.41458\n",
      "log loss of GBDT on valid set: 0.41562\n",
      "training: max_depth =  12\n",
      "log loss of GBDT on train set: 0.41463\n",
      "log loss of GBDT on valid set: 0.41606\n"
     ]
    }
   ],
   "source": [
    "### max_depth\n",
    "log_loss_train = []\n",
    "log_loss_valid = []\n",
    "max_depths = [4,5,6,7,8,9,10,11,12]\n",
    "for md in max_depths:\n",
    "    print('training: max_depth = ', md)\n",
    "    \n",
    "    param['max_depth'] = md\n",
    "    gbdt_model.set_params(**param)\n",
    "    gbdt_model.fit(X_train_gbdt, y_train_gbdt)\n",
    "    # scores\n",
    "    y_pred_gbdt = gbdt_model.predict_proba(X_train_gbdt)[:, 1]\n",
    "    log_loss_gbdt = log_loss(y_train_gbdt, y_pred_gbdt)\n",
    "    print('log loss of GBDT on train set: %.5f' % log_loss_gbdt)\n",
    "    log_loss_train.append(log_loss_gbdt)\n",
    "    \n",
    "    y_pred_gbdt = gbdt_model.predict_proba(X_valid)[:, 1]\n",
    "    log_loss_gbdt = log_loss(y_valid, y_pred_gbdt)\n",
    "    print('log loss of GBDT on valid set: %.5f' % log_loss_gbdt)\n",
    "    log_loss_valid.append(log_loss_gbdt)\n",
    "    \n"
   ]
  },
  {
   "cell_type": "code",
   "execution_count": 10,
   "metadata": {
    "ExecuteTime": {
     "end_time": "2019-03-12T08:33:22.238842Z",
     "start_time": "2019-03-12T08:33:21.985523Z"
    }
   },
   "outputs": [
    {
     "data": {
      "image/png": "[encoded data removed]",
      "text/plain": [
       "<Figure size 432x288 with 1 Axes>"
      ]
     },
     "metadata": {
      "needs_background": "light"
     },
     "output_type": "display_data"
    }
   ],
   "source": [
    "## plot the curve\n",
    "f1 = plt.figure(2)\n",
    "plt.plot(max_depths, log_loss_train, label='train')\n",
    "plt.plot(max_depths, log_loss_valid, label='valid')\n",
    "plt.xlabel('max_depth')\n",
    "plt.ylabel('log_loss')\n",
    "plt.title('max_depth (nt=100,lr=0.2,mss=20,msl=10)')\n",
    "plt.legend()\n",
    "plt.grid(True, linewidth=0.3)\n",
    "plt.show()"
   ]
  },
  {
   "cell_type": "code",
   "execution_count": 11,
   "metadata": {
    "ExecuteTime": {
     "end_time": "2019-03-12T09:00:22.268150Z",
     "start_time": "2019-03-12T09:00:22.260174Z"
    }
   },
   "outputs": [],
   "source": [
    "# 可以得到最佳 max_depth = 8\n",
    "param['max_depth'] = 8"
   ]
  },
  {
   "cell_type": "code",
   "execution_count": 12,
   "metadata": {
    "ExecuteTime": {
     "end_time": "2019-03-12T09:57:12.428434Z",
     "start_time": "2019-03-12T09:00:24.359171Z"
    }
   },
   "outputs": [
    {
     "name": "stdout",
     "output_type": "stream",
     "text": [
      "training: min_samples_split =  2\n",
      "log loss of GBDT on train set: 0.41359\n",
      "log loss of GBDT on valid set: 0.41412\n",
      "training: min_samples_split =  5\n",
      "log loss of GBDT on train set: 0.41359\n",
      "log loss of GBDT on valid set: 0.41412\n",
      "training: min_samples_split =  10\n",
      "log loss of GBDT on train set: 0.41359\n",
      "log loss of GBDT on valid set: 0.41412\n",
      "training: min_samples_split =  15\n",
      "log loss of GBDT on train set: 0.41359\n",
      "log loss of GBDT on valid set: 0.41412\n",
      "training: min_samples_split =  20\n",
      "log loss of GBDT on train set: 0.41359\n",
      "log loss of GBDT on valid set: 0.41412\n",
      "training: min_samples_split =  25\n",
      "log loss of GBDT on train set: 0.41396\n",
      "log loss of GBDT on valid set: 0.41454\n",
      "training: min_samples_split =  30\n",
      "log loss of GBDT on train set: 0.41375\n",
      "log loss of GBDT on valid set: 0.41443\n",
      "training: min_samples_split =  35\n",
      "log loss of GBDT on train set: 0.41352\n",
      "log loss of GBDT on valid set: 0.41432\n",
      "training: min_samples_split =  40\n",
      "log loss of GBDT on train set: 0.41362\n",
      "log loss of GBDT on valid set: 0.41426\n",
      "training: min_samples_split =  50\n",
      "log loss of GBDT on train set: 0.41387\n",
      "log loss of GBDT on valid set: 0.41446\n",
      "training: min_samples_split =  60\n",
      "log loss of GBDT on train set: 0.41345\n",
      "log loss of GBDT on valid set: 0.41409\n",
      "training: min_samples_split =  70\n",
      "log loss of GBDT on train set: 0.41380\n",
      "log loss of GBDT on valid set: 0.41437\n",
      "training: min_samples_split =  80\n",
      "log loss of GBDT on train set: 0.41371\n",
      "log loss of GBDT on valid set: 0.41430\n"
     ]
    }
   ],
   "source": [
    "### min_samples_split\n",
    "log_loss_train = []\n",
    "log_loss_valid = []\n",
    "min_samples_splits = [2,5,10,15,20,25,30,35,40,50,60,70,80]\n",
    "for mss in min_samples_splits:\n",
    "    print('training: min_samples_split = ', mss)\n",
    "    \n",
    "    param['min_samples_split'] = mss\n",
    "    gbdt_model.set_params(**param)\n",
    "    gbdt_model.fit(X_train_gbdt, y_train_gbdt)\n",
    "    # scores\n",
    "    y_pred_gbdt = gbdt_model.predict_proba(X_train_gbdt)[:, 1]\n",
    "    log_loss_gbdt = log_loss(y_train_gbdt, y_pred_gbdt)\n",
    "    print('log loss of GBDT on train set: %.5f' % log_loss_gbdt)\n",
    "    log_loss_train.append(log_loss_gbdt)\n",
    "    \n",
    "    y_pred_gbdt = gbdt_model.predict_proba(X_valid)[:, 1]\n",
    "    log_loss_gbdt = log_loss(y_valid, y_pred_gbdt)\n",
    "    print('log loss of GBDT on valid set: %.5f' % log_loss_gbdt)\n",
    "    log_loss_valid.append(log_loss_gbdt)\n",
    "    "
   ]
  },
  {
   "cell_type": "code",
   "execution_count": 13,
   "metadata": {
    "ExecuteTime": {
     "end_time": "2019-03-12T09:57:12.715778Z",
     "start_time": "2019-03-12T09:57:12.444390Z"
    }
   },
   "outputs": [
    {
     "data": {
      "image/png": "[encoded data removed]",
      "text/plain": [
       "<Figure size 432x288 with 1 Axes>"
      ]
     },
     "metadata": {
      "needs_background": "light"
     },
     "output_type": "display_data"
    }
   ],
   "source": [
    "## plot the curve\n",
    "f1 = plt.figure(3)\n",
    "plt.plot(min_samples_splits, log_loss_train, label='train')\n",
    "plt.plot(min_samples_splits, log_loss_valid, label='valid')\n",
    "plt.xlabel('min_samples_split')\n",
    "plt.ylabel('log_loss')\n",
    "plt.title('min_samples_split (nt=50,lr=0.2,md=8,msl=1)')\n",
    "plt.legend()\n",
    "plt.grid(True, linewidth=0.3)\n",
    "plt.show()\n"
   ]
  },
  {
   "cell_type": "code",
   "execution_count": 14,
   "metadata": {
    "ExecuteTime": {
     "end_time": "2019-03-12T10:25:13.020104Z",
     "start_time": "2019-03-12T10:25:13.002150Z"
    }
   },
   "outputs": [],
   "source": [
    "# 可得最佳的 min_samples_split = 60\n",
    "param['min_samples_split'] = 60"
   ]
  },
  {
   "cell_type": "code",
   "execution_count": 15,
   "metadata": {
    "ExecuteTime": {
     "end_time": "2019-03-12T11:42:35.867172Z",
     "start_time": "2019-03-12T10:25:15.972877Z"
    }
   },
   "outputs": [
    {
     "name": "stdout",
     "output_type": "stream",
     "text": [
      "training: min_samples_leaf =  1\n",
      "log loss of GBDT on train set: 0.41533\n",
      "log loss of GBDT on valid set: 0.41596\n",
      "training: min_samples_leaf =  2\n",
      "log loss of GBDT on train set: 0.41434\n",
      "log loss of GBDT on valid set: 0.41529\n",
      "training: min_samples_leaf =  3\n",
      "log loss of GBDT on train set: 0.41372\n",
      "log loss of GBDT on valid set: 0.41436\n",
      "training: min_samples_leaf =  4\n",
      "log loss of GBDT on train set: 0.41411\n",
      "log loss of GBDT on valid set: 0.41470\n",
      "training: min_samples_leaf =  5\n",
      "log loss of GBDT on train set: 0.41424\n",
      "log loss of GBDT on valid set: 0.41474\n",
      "training: min_samples_leaf =  6\n",
      "log loss of GBDT on train set: 0.41381\n",
      "log loss of GBDT on valid set: 0.41441\n",
      "training: min_samples_leaf =  7\n",
      "log loss of GBDT on train set: 0.41403\n",
      "log loss of GBDT on valid set: 0.41462\n",
      "training: min_samples_leaf =  8\n",
      "log loss of GBDT on train set: 0.41352\n",
      "log loss of GBDT on valid set: 0.41406\n",
      "training: min_samples_leaf =  9\n",
      "log loss of GBDT on train set: 0.41369\n",
      "log loss of GBDT on valid set: 0.41431\n",
      "training: min_samples_leaf =  10\n",
      "log loss of GBDT on train set: 0.41345\n",
      "log loss of GBDT on valid set: 0.41409\n",
      "training: min_samples_leaf =  11\n",
      "log loss of GBDT on train set: 0.41350\n",
      "log loss of GBDT on valid set: 0.41408\n",
      "training: min_samples_leaf =  12\n",
      "log loss of GBDT on train set: 0.41360\n",
      "log loss of GBDT on valid set: 0.41415\n",
      "training: min_samples_leaf =  13\n",
      "log loss of GBDT on train set: 0.41348\n",
      "log loss of GBDT on valid set: 0.41412\n",
      "training: min_samples_leaf =  14\n",
      "log loss of GBDT on train set: 0.41355\n",
      "log loss of GBDT on valid set: 0.41415\n",
      "training: min_samples_leaf =  15\n",
      "log loss of GBDT on train set: 0.41359\n",
      "log loss of GBDT on valid set: 0.41413\n",
      "training: min_samples_leaf =  17\n",
      "log loss of GBDT on train set: 0.41331\n",
      "log loss of GBDT on valid set: 0.41387\n",
      "training: min_samples_leaf =  20\n",
      "log loss of GBDT on train set: 0.41379\n",
      "log loss of GBDT on valid set: 0.41441\n",
      "training: min_samples_leaf =  23\n",
      "log loss of GBDT on train set: 0.41311\n",
      "log loss of GBDT on valid set: 0.41368\n",
      "training: min_samples_leaf =  26\n",
      "log loss of GBDT on train set: 0.41336\n",
      "log loss of GBDT on valid set: 0.41403\n",
      "training: min_samples_leaf =  30\n",
      "log loss of GBDT on train set: 0.41364\n",
      "log loss of GBDT on valid set: 0.41417\n"
     ]
    }
   ],
   "source": [
    "### min_samples_leaf\n",
    "log_loss_train = []\n",
    "log_loss_valid = []\n",
    "min_samples_leafs = [1,2,3,4,5,6,7,8,9,10,11,12,13,14,15,17,20,23,26,30]\n",
    "for msl in min_samples_leafs:\n",
    "    print('training: min_samples_leaf = ', msl)\n",
    "    \n",
    "    param['min_samples_leaf'] = msl\n",
    "    gbdt_model.set_params(**param)\n",
    "    gbdt_model.fit(X_train_gbdt, y_train_gbdt)\n",
    "    # scores\n",
    "    y_pred_gbdt = gbdt_model.predict_proba(X_train_gbdt)[:, 1]\n",
    "    log_loss_gbdt = log_loss(y_train_gbdt, y_pred_gbdt)\n",
    "    print('log loss of GBDT on train set: %.5f' % log_loss_gbdt)\n",
    "    log_loss_train.append(log_loss_gbdt)\n",
    "    \n",
    "    y_pred_gbdt = gbdt_model.predict_proba(X_valid)[:, 1]\n",
    "    log_loss_gbdt = log_loss(y_valid, y_pred_gbdt)\n",
    "    print('log loss of GBDT on valid set: %.5f' % log_loss_gbdt)\n",
    "    log_loss_valid.append(log_loss_gbdt)\n",
    "    \n"
   ]
  },
  {
   "cell_type": "code",
   "execution_count": 16,
   "metadata": {
    "ExecuteTime": {
     "end_time": "2019-03-12T11:42:36.367471Z",
     "start_time": "2019-03-12T11:42:35.907701Z"
    }
   },
   "outputs": [
    {
     "data": {
      "image/png": "[encoded data removed]",
      "text/plain": [
       "<Figure size 432x288 with 1 Axes>"
      ]
     },
     "metadata": {
      "needs_background": "light"
     },
     "output_type": "display_data"
    }
   ],
   "source": [
    "## plot the curve\n",
    "f1 = plt.figure(4)\n",
    "plt.plot(min_samples_leafs, log_loss_train, label='train')\n",
    "plt.plot(min_samples_leafs, log_loss_valid, label='valid')\n",
    "plt.xlabel('min_samples_leaf')\n",
    "plt.ylabel('log_loss')\n",
    "plt.title('min_samples_leaf (nt=25,lr=0.2,md=7,mss=35)')\n",
    "plt.legend()\n",
    "plt.grid(True, linewidth=0.3)\n",
    "plt.show()\n"
   ]
  },
  {
   "cell_type": "code",
   "execution_count": 17,
   "metadata": {
    "ExecuteTime": {
     "end_time": "2019-03-12T11:55:44.201976Z",
     "start_time": "2019-03-12T11:55:44.194969Z"
    }
   },
   "outputs": [],
   "source": [
    "# 得到最佳的min_samples_leaf = 26\n",
    "param['min_samples_leaf'] = 26"
   ]
  },
  {
   "cell_type": "code",
   "execution_count": 18,
   "metadata": {
    "ExecuteTime": {
     "end_time": "2019-03-12T11:59:43.817691Z",
     "start_time": "2019-03-12T11:55:46.729181Z"
    }
   },
   "outputs": [
    {
     "data": {
      "text/plain": [
       "GradientBoostingClassifier(criterion='friedman_mse', init=None,\n",
       "              learning_rate=0.2, loss='deviance', max_depth=8,\n",
       "              max_features=None, max_leaf_nodes=None,\n",
       "              min_impurity_decrease=0.0, min_impurity_split=None,\n",
       "              min_samples_leaf=30, min_samples_split=60,\n",
       "              min_weight_fraction_leaf=0.0, n_estimators=40,\n",
       "              n_iter_no_change=None, presort='auto', random_state=1,\n",
       "              subsample=0.01, tol=0.0001, validation_fraction=0.1,\n",
       "              verbose=0, warm_start=False)"
      ]
     },
     "execution_count": 18,
     "metadata": {},
     "output_type": "execute_result"
    }
   ],
   "source": [
    "## fitting\n",
    "gbdt_model.fit(X_train_gbdt, y_train_gbdt)\n"
   ]
  },
  {
   "cell_type": "code",
   "execution_count": 19,
   "metadata": {
    "ExecuteTime": {
     "end_time": "2019-03-12T11:59:52.000525Z",
     "start_time": "2019-03-12T11:59:43.845063Z"
    }
   },
   "outputs": [
    {
     "name": "stdout",
     "output_type": "stream",
     "text": [
      "log loss of GBDT on train set: 0.41364\n",
      "log loss of GBDT on valid set: 0.41417\n"
     ]
    }
   ],
   "source": [
    "## log-loss of training\n",
    "y_pred_gbdt = gbdt_model.predict_proba(X_train_gbdt)[:, 1]\n",
    "log_loss_gbdt = log_loss(y_train_gbdt, y_pred_gbdt)\n",
    "print('log loss of GBDT on train set: %.5f' % log_loss_gbdt)\n",
    "\n",
    "y_pred_gbdt = gbdt_model.predict_proba(X_valid)[:, 1]\n",
    "log_loss_gbdt = log_loss(y_valid, y_pred_gbdt)\n",
    "print('log loss of GBDT on valid set: %.5f' % log_loss_gbdt)"
   ]
  },
  {
   "cell_type": "code",
   "execution_count": 20,
   "metadata": {
    "ExecuteTime": {
     "end_time": "2019-03-12T12:12:57.100605Z",
     "start_time": "2019-03-12T12:12:56.259827Z"
    }
   },
   "outputs": [],
   "source": [
    "## store the pre-trained gbdt_model\n",
    "pickle.dump(gbdt_model, open(fp_gbdt_model, 'wb'))\n",
    "\n",
    "del X_train_gbdt\n",
    "del y_train_gbdt\n",
    "gc.collect()\n",
    "\n",
    "gbdt_model = pickle.load(open(fp_gbdt_model, 'rb'))\n"
   ]
  },
  {
   "cell_type": "code",
   "execution_count": 21,
   "metadata": {
    "ExecuteTime": {
     "end_time": "2019-03-12T12:12:59.291747Z",
     "start_time": "2019-03-12T12:12:59.276751Z"
    }
   },
   "outputs": [],
   "source": [
    "#----- 为 LR 准备数据  -----#\n",
    "id_cols = []\n",
    "for i in range(1, gbdt_model.get_params()['n_estimators']+1):\n",
    "    id_cols.append('tree'+str(i))\n",
    "oh_enc = OneHotEncoder(id_cols)\n",
    "\n",
    "def chunker(seq, size):\n",
    "    return (seq[pos: pos + size] for pos in range(0, len(seq), size))\n",
    "\n"
   ]
  },
  {
   "cell_type": "code",
   "execution_count": 22,
   "metadata": {
    "ExecuteTime": {
     "end_time": "2019-03-12T12:14:12.654283Z",
     "start_time": "2019-03-12T12:13:01.726163Z"
    }
   },
   "outputs": [
    {
     "data": {
      "text/plain": [
       "0"
      ]
     },
     "execution_count": 22,
     "metadata": {},
     "output_type": "execute_result"
    }
   ],
   "source": [
    "## oh_enc fit the train_set\n",
    "df_train_id = pd.DataFrame(gbdt_model.apply(X_train_org)[:, :, 0], columns=id_cols, dtype=np.int8)\n",
    "\n",
    "for chunk in chunker(df_train_id, 50000):\n",
    "    oh_enc.fit(chunk)\n",
    "    \n",
    "del df_train_id\n",
    "\n",
    "del X_train_org\n",
    "del y_train_org\n",
    "gc.collect()\n",
    "\n"
   ]
  },
  {
   "cell_type": "code",
   "execution_count": 23,
   "metadata": {
    "ExecuteTime": {
     "end_time": "2019-03-12T12:15:02.525209Z",
     "start_time": "2019-03-12T12:14:12.661265Z"
    }
   },
   "outputs": [],
   "source": [
    "## oh_enc 在测试集上训练\n",
    "df_test_f = pd.read_csv(fp_test_f, \n",
    "                        index_col=None,  dtype={'id':str}, \n",
    "                        chunksize=50000, iterator=True)\n",
    "\n",
    "for chunk in df_test_f:\n",
    "    ## label transform for training set\n",
    "    for col in cols:\n",
    "        chunk[col] = label_enc[col].fit_transform(chunk[col].values)       \n",
    "    X_test = chunk[cols].get_values()\n",
    "    \n",
    "    #----- GBDT-LR 模型 -----#\n",
    "    df_X_test_id = pd.DataFrame(gbdt_model.apply(X_test)[:, :, 0], columns=id_cols, dtype=np.int8)  # gbdt\n",
    "    oh_enc.fit(df_X_test_id)\n"
   ]
  },
  {
   "cell_type": "code",
   "execution_count": 24,
   "metadata": {
    "ExecuteTime": {
     "end_time": "2019-03-12T12:22:45.986902Z",
     "start_time": "2019-03-12T12:22:45.958977Z"
    }
   },
   "outputs": [],
   "source": [
    "## 存储编码数据\n",
    "pickle.dump(oh_enc, open(fp_oh_enc_gbdt, 'wb'))\n",
    "\n",
    "oh_enc = pickle.load(open(fp_oh_enc_gbdt, 'rb'))\n"
   ]
  },
  {
   "cell_type": "code",
   "execution_count": 25,
   "metadata": {
    "ExecuteTime": {
     "end_time": "2019-03-12T12:22:53.824521Z",
     "start_time": "2019-03-12T12:22:48.362236Z"
    }
   },
   "outputs": [],
   "source": [
    "#---- LR 模型 -----#\n",
    "lr_model = SGDClassifier(loss='log')  # using log-loss for LogisticRegression\n",
    "\n",
    "## input data (one-hot encoding)\n",
    "df_X_train_lr_id = pd.DataFrame(gbdt_model.apply(X_train_lr)[:, :, 0], columns=id_cols, dtype=np.int8)\n",
    "df_X_train_lr_id['click'] = y_train_lr\n"
   ]
  },
  {
   "cell_type": "code",
   "execution_count": 30,
   "metadata": {
    "ExecuteTime": {
     "end_time": "2019-03-12T12:44:18.767953Z",
     "start_time": "2019-03-12T12:37:43.777143Z"
    }
   },
   "outputs": [],
   "source": [
    "## fitting\n",
    "for chunk in chunker(df_X_train_lr_id,100000):\n",
    "    X_train = oh_enc.transform(chunk[id_cols])\n",
    "    y_train = chunk['click'].astype('int')\n",
    "    lr_model.partial_fit(X_train, y_train, classes = [0,1]) "
   ]
  },
  {
   "cell_type": "code",
   "execution_count": 36,
   "metadata": {
    "ExecuteTime": {
     "end_time": "2019-03-12T13:06:11.986081Z",
     "start_time": "2019-03-12T13:04:54.907205Z"
    }
   },
   "outputs": [
    {
     "ename": "MemoryError",
     "evalue": "",
     "output_type": "error",
     "traceback": [
      "\u001b[1;31m---------------------------------------------------------------------------\u001b[0m",
      "\u001b[1;31mMemoryError\u001b[0m                               Traceback (most recent call last)",
      "\u001b[1;32m<ipython-input-36-4bbba8a107fc>\u001b[0m in \u001b[0;36m<module>\u001b[1;34m()\u001b[0m\n\u001b[0;32m      2\u001b[0m \u001b[0mlog_loss_lr\u001b[0m \u001b[1;33m=\u001b[0m \u001b[1;33m[\u001b[0m\u001b[1;33m]\u001b[0m\u001b[1;33m\u001b[0m\u001b[0m\n\u001b[0;32m      3\u001b[0m \u001b[1;32mfor\u001b[0m \u001b[0mchunk\u001b[0m \u001b[1;32min\u001b[0m \u001b[0mchunker\u001b[0m\u001b[1;33m(\u001b[0m\u001b[0mdf_X_train_lr_id\u001b[0m\u001b[1;33m,\u001b[0m\u001b[1;36m1750000\u001b[0m\u001b[1;33m)\u001b[0m\u001b[1;33m:\u001b[0m\u001b[1;33m\u001b[0m\u001b[0m\n\u001b[1;32m----> 4\u001b[1;33m     \u001b[0mX_train_id\u001b[0m \u001b[1;33m=\u001b[0m \u001b[0moh_enc\u001b[0m\u001b[1;33m.\u001b[0m\u001b[0mtransform\u001b[0m\u001b[1;33m(\u001b[0m\u001b[0mchunk\u001b[0m\u001b[1;33m[\u001b[0m\u001b[0mid_cols\u001b[0m\u001b[1;33m]\u001b[0m\u001b[1;33m)\u001b[0m\u001b[1;33m\u001b[0m\u001b[0m\n\u001b[0m\u001b[0;32m      5\u001b[0m     \u001b[0my_pred_lr\u001b[0m \u001b[1;33m=\u001b[0m \u001b[0mlr_model\u001b[0m\u001b[1;33m.\u001b[0m\u001b[0mpredict_proba\u001b[0m\u001b[1;33m(\u001b[0m\u001b[0mX_train_id\u001b[0m\u001b[1;33m)\u001b[0m\u001b[1;33m[\u001b[0m\u001b[1;33m:\u001b[0m\u001b[1;33m,\u001b[0m \u001b[1;36m1\u001b[0m\u001b[1;33m]\u001b[0m\u001b[1;33m\u001b[0m\u001b[0m\n\u001b[0;32m      6\u001b[0m     \u001b[0mlog_loss_lr_tmp\u001b[0m \u001b[1;33m=\u001b[0m \u001b[0mlog_loss\u001b[0m\u001b[1;33m(\u001b[0m\u001b[0my_train_lr\u001b[0m\u001b[1;33m,\u001b[0m \u001b[0my_pred_lr\u001b[0m\u001b[1;33m)\u001b[0m\u001b[1;33m\u001b[0m\u001b[0m\n",
      "\u001b[1;32mD:\\jupyter notebook\\CTR-Project2\\dummyPy.py\u001b[0m in \u001b[0;36mtransform\u001b[1;34m(self, data, dtype)\u001b[0m\n\u001b[0;32m    178\u001b[0m \u001b[1;33m\u001b[0m\u001b[0m\n\u001b[0;32m    179\u001b[0m                                           for item in sublist]\n\u001b[1;32m--> 180\u001b[1;33m             \u001b[1;32mreturn\u001b[0m\u001b[1;33m(\u001b[0m\u001b[0mpd\u001b[0m\u001b[1;33m.\u001b[0m\u001b[0mDataFrame\u001b[0m\u001b[1;33m(\u001b[0m\u001b[0mtransformed_coo_matrix\u001b[0m\u001b[1;33m.\u001b[0m\u001b[0mtoarray\u001b[0m\u001b[1;33m(\u001b[0m\u001b[1;33m)\u001b[0m\u001b[1;33m,\u001b[0m \u001b[0mcolumns\u001b[0m\u001b[1;33m=\u001b[0m\u001b[0mtransformed_data_col_names\u001b[0m\u001b[1;33m)\u001b[0m\u001b[1;33m)\u001b[0m\u001b[1;33m\u001b[0m\u001b[0m\n\u001b[0m\u001b[0;32m    181\u001b[0m \u001b[1;33m\u001b[0m\u001b[0m\n\u001b[0;32m    182\u001b[0m     \u001b[1;32mdef\u001b[0m \u001b[0mfit_transform\u001b[0m\u001b[1;33m(\u001b[0m\u001b[0mself\u001b[0m\u001b[1;33m,\u001b[0m \u001b[0mdata\u001b[0m\u001b[1;33m)\u001b[0m\u001b[1;33m:\u001b[0m\u001b[1;33m\u001b[0m\u001b[0m\n",
      "\u001b[1;32m~\\Anaconda3\\envs\\python3\\lib\\site-packages\\scipy\\sparse\\coo.py\u001b[0m in \u001b[0;36mtoarray\u001b[1;34m(self, order, out)\u001b[0m\n\u001b[0;32m    257\u001b[0m     \u001b[1;32mdef\u001b[0m \u001b[0mtoarray\u001b[0m\u001b[1;33m(\u001b[0m\u001b[0mself\u001b[0m\u001b[1;33m,\u001b[0m \u001b[0morder\u001b[0m\u001b[1;33m=\u001b[0m\u001b[1;32mNone\u001b[0m\u001b[1;33m,\u001b[0m \u001b[0mout\u001b[0m\u001b[1;33m=\u001b[0m\u001b[1;32mNone\u001b[0m\u001b[1;33m)\u001b[0m\u001b[1;33m:\u001b[0m\u001b[1;33m\u001b[0m\u001b[0m\n\u001b[0;32m    258\u001b[0m         \u001b[1;34m\"\"\"See the docstring for `spmatrix.toarray`.\"\"\"\u001b[0m\u001b[1;33m\u001b[0m\u001b[0m\n\u001b[1;32m--> 259\u001b[1;33m         \u001b[0mB\u001b[0m \u001b[1;33m=\u001b[0m \u001b[0mself\u001b[0m\u001b[1;33m.\u001b[0m\u001b[0m_process_toarray_args\u001b[0m\u001b[1;33m(\u001b[0m\u001b[0morder\u001b[0m\u001b[1;33m,\u001b[0m \u001b[0mout\u001b[0m\u001b[1;33m)\u001b[0m\u001b[1;33m\u001b[0m\u001b[0m\n\u001b[0m\u001b[0;32m    260\u001b[0m         \u001b[0mfortran\u001b[0m \u001b[1;33m=\u001b[0m \u001b[0mint\u001b[0m\u001b[1;33m(\u001b[0m\u001b[0mB\u001b[0m\u001b[1;33m.\u001b[0m\u001b[0mflags\u001b[0m\u001b[1;33m.\u001b[0m\u001b[0mf_contiguous\u001b[0m\u001b[1;33m)\u001b[0m\u001b[1;33m\u001b[0m\u001b[0m\n\u001b[0;32m    261\u001b[0m         \u001b[1;32mif\u001b[0m \u001b[1;32mnot\u001b[0m \u001b[0mfortran\u001b[0m \u001b[1;32mand\u001b[0m \u001b[1;32mnot\u001b[0m \u001b[0mB\u001b[0m\u001b[1;33m.\u001b[0m\u001b[0mflags\u001b[0m\u001b[1;33m.\u001b[0m\u001b[0mc_contiguous\u001b[0m\u001b[1;33m:\u001b[0m\u001b[1;33m\u001b[0m\u001b[0m\n",
      "\u001b[1;32m~\\Anaconda3\\envs\\python3\\lib\\site-packages\\scipy\\sparse\\base.py\u001b[0m in \u001b[0;36m_process_toarray_args\u001b[1;34m(self, order, out)\u001b[0m\n\u001b[0;32m   1128\u001b[0m             \u001b[1;32mreturn\u001b[0m \u001b[0mout\u001b[0m\u001b[1;33m\u001b[0m\u001b[0m\n\u001b[0;32m   1129\u001b[0m         \u001b[1;32melse\u001b[0m\u001b[1;33m:\u001b[0m\u001b[1;33m\u001b[0m\u001b[0m\n\u001b[1;32m-> 1130\u001b[1;33m             \u001b[1;32mreturn\u001b[0m \u001b[0mnp\u001b[0m\u001b[1;33m.\u001b[0m\u001b[0mzeros\u001b[0m\u001b[1;33m(\u001b[0m\u001b[0mself\u001b[0m\u001b[1;33m.\u001b[0m\u001b[0mshape\u001b[0m\u001b[1;33m,\u001b[0m \u001b[0mdtype\u001b[0m\u001b[1;33m=\u001b[0m\u001b[0mself\u001b[0m\u001b[1;33m.\u001b[0m\u001b[0mdtype\u001b[0m\u001b[1;33m,\u001b[0m \u001b[0morder\u001b[0m\u001b[1;33m=\u001b[0m\u001b[0morder\u001b[0m\u001b[1;33m)\u001b[0m\u001b[1;33m\u001b[0m\u001b[0m\n\u001b[0m\u001b[0;32m   1131\u001b[0m \u001b[1;33m\u001b[0m\u001b[0m\n\u001b[0;32m   1132\u001b[0m     \u001b[1;32mdef\u001b[0m \u001b[0m__numpy_ufunc__\u001b[0m\u001b[1;33m(\u001b[0m\u001b[0mself\u001b[0m\u001b[1;33m,\u001b[0m \u001b[0mfunc\u001b[0m\u001b[1;33m,\u001b[0m \u001b[0mmethod\u001b[0m\u001b[1;33m,\u001b[0m \u001b[0mpos\u001b[0m\u001b[1;33m,\u001b[0m \u001b[0minputs\u001b[0m\u001b[1;33m,\u001b[0m \u001b[1;33m**\u001b[0m\u001b[0mkwargs\u001b[0m\u001b[1;33m)\u001b[0m\u001b[1;33m:\u001b[0m\u001b[1;33m\u001b[0m\u001b[0m\n",
      "\u001b[1;31mMemoryError\u001b[0m: "
     ]
    }
   ],
   "source": [
    "## log-loss of training\n",
    "log_loss_lr = []\n",
    "for chunk in chunker(df_X_train_lr_id,1750000):\n",
    "    X_train_id = oh_enc.transform(chunk[id_cols])\n",
    "    y_pred_lr = lr_model.predict_proba(X_train_id)[:, 1]\n",
    "    log_loss_lr_tmp = log_loss(y_train_lr, y_pred_lr)\n",
    "    print('log loss of LR on train set: %.5f' % log_loss_lr_tmp)\n",
    "    log_loss_lr.append(log_loss_lr_tmp)\n",
    "\n",
    "del df_X_train_lr_id\n",
    "gc.collect()\n"
   ]
  },
  {
   "cell_type": "code",
   "execution_count": 28,
   "metadata": {
    "ExecuteTime": {
     "end_time": "2019-03-03T01:52:03.974104Z",
     "start_time": "2019-03-03T01:51:06.026792Z"
    }
   },
   "outputs": [
    {
     "name": "stdout",
     "output_type": "stream",
     "text": [
      "log loss of LR on train set: 0.41401\n",
      "log loss of LR on valid set: 0.41401\n"
     ]
    }
   ],
   "source": [
    "## log-loss of valid\n",
    "log_loss_lr = []\n",
    "df_X_valid_id = pd.DataFrame(gbdt_model.apply(X_valid)[:, :, 0], columns=id_cols, dtype=np.int8)\n",
    "#df_X_valid_id['click'] = y_valid\n",
    "\n",
    "for chunk in chunker(df_X_valid_id,1750000):\n",
    "    X_valid_id = oh_enc.transform(chunk[id_cols])\n",
    "    y_pred_lr = lr_model.predict_proba(X_valid_id)[:, 1]\n",
    "    log_loss_lr_tmp = log_loss(y_valid, y_pred_lr)\n",
    "    print('log loss of LR on train set: %.5f' % log_loss_lr_tmp)\n",
    "    log_loss_lr.append(log_loss_lr_tmp)\n",
    "    \n",
    "X2_valid = oh_enc.transform(pd.DataFrame(gbdt_model.apply(X_valid)[:, :, 0], columns=id_cols, dtype=np.int8))\n",
    "y_pred_lr = lr_model.predict_proba(X2_valid)[:, 1]\n",
    "log_loss_lr = log_loss(y_valid, y_pred_lr)\n",
    "print('log loss of LR on valid set: %.5f' % log_loss_lr)\n",
    "\n"
   ]
  },
  {
   "cell_type": "code",
   "execution_count": 29,
   "metadata": {
    "ExecuteTime": {
     "end_time": "2019-03-03T01:52:54.782442Z",
     "start_time": "2019-03-03T01:52:54.680358Z"
    }
   },
   "outputs": [],
   "source": [
    "## 保存预训练模型\n",
    "pickle.dump(lr_model, open(fp_lr_model, 'wb'))\n",
    "\n",
    "lr_model = pickle.load(open(fp_lr_model, 'rb'))\n"
   ]
  },
  {
   "cell_type": "code",
   "execution_count": 31,
   "metadata": {
    "ExecuteTime": {
     "end_time": "2019-03-03T01:54:54.352053Z",
     "start_time": "2019-03-03T01:53:34.369856Z"
    }
   },
   "outputs": [],
   "source": [
    "##==================== 预测 ====================##\n",
    "df_test_f = pd.read_csv(fp_test_f, \n",
    "                        index_col=None,  dtype={'id':str}, \n",
    "                        chunksize=1000, iterator=True)        \n",
    "\n",
    "hd = True\n",
    "for chunk in df_test_f:\n",
    "    ## label transform for training set\n",
    "    for col in cols:\n",
    "        chunk[col] = label_enc[col].fit_transform(chunk[col].values)       \n",
    "    X_test = chunk[cols].get_values()\n",
    "    \n",
    "    #----- GBDT-LR -----#\n",
    "    y_pred_gbdt = gbdt_model.predict_proba(X_test)[:, 1]\n",
    "    X_test_gbdt = pd.DataFrame(gbdt_model.apply(X_test)[:, :, 0], columns=id_cols, dtype=np.int8)\n",
    "    X2_test = oh_enc.transform(X_test_gbdt)  # one-hot\n",
    "    y_pred_lr = lr_model.predict_proba(X2_test)[:, 1]  # lr   \n",
    "    \n",
    "    #----- 生成submission -----#\n",
    "    chunk['click_gbdt'] = y_pred_gbdt\n",
    "    chunk['click_lr'] = y_pred_lr\n",
    "    with open(fp_sub_gbdt, 'a') as f: \n",
    "        chunk.to_csv(f, columns=['id', 'click_gbdt'], header=hd, index=False)\n",
    "    with open(fp_sub_gbdt_lr, 'a') as f: \n",
    "        chunk.to_csv(f, columns=['id', 'click_lr'], header=hd, index=False)\n",
    "    hd = False\n",
    "    "
   ]
  },
  {
   "cell_type": "code",
   "execution_count": null,
   "metadata": {},
   "outputs": [],
   "source": []
  },
  {
   "cell_type": "code",
   "execution_count": null,
   "metadata": {},
   "outputs": [],
   "source": []
  },
  {
   "cell_type": "code",
   "execution_count": null,
   "metadata": {},
   "outputs": [],
   "source": []
  },
  {
   "cell_type": "code",
   "execution_count": null,
   "metadata": {},
   "outputs": [],
   "source": []
  },
  {
   "cell_type": "code",
   "execution_count": null,
   "metadata": {},
   "outputs": [],
   "source": []
  }
 ],
 "metadata": {
  "kernelspec": {
   "display_name": "Python 3",
   "language": "python",
   "name": "python3"
  },
  "language_info": {
   "codemirror_mode": {
    "name": "ipython",
    "version": 3
   },
   "file_extension": ".py",
   "mimetype": "text/x-python",
   "name": "python",
   "nbconvert_exporter": "python",
   "pygments_lexer": "ipython3",
   "version": "3.6.4"
  },
  "toc": {
   "base_numbering": 1,
   "nav_menu": {},
   "number_sections": true,
   "sideBar": true,
   "skip_h1_title": false,
   "title_cell": "Table of Contents",
   "title_sidebar": "Contents",
   "toc_cell": false,
   "toc_position": {},
   "toc_section_display": true,
   "toc_window_display": false
  }
 },
 "nbformat": 4,
 "nbformat_minor": 2
}
